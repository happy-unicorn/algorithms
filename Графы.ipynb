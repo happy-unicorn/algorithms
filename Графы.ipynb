{
 "cells": [
  {
   "cell_type": "code",
   "execution_count": 1,
   "metadata": {},
   "outputs": [],
   "source": [
    "import numpy as np\n",
    "from matplotlib import pyplot as plt"
   ]
  },
  {
   "cell_type": "code",
   "execution_count": 2,
   "metadata": {},
   "outputs": [
    {
     "name": "stdout",
     "output_type": "stream",
     "text": [
      "[0, 2, 4, 1, 3, 5, 6, 7, 8, 9, 10, 11, 12, 13]\n"
     ]
    }
   ],
   "source": [
    "def topological_sort(graph):\n",
    "    linear_space = []\n",
    "    degree = [0 for _ in range(len(graph))]\n",
    "    for top in graph:\n",
    "        for i in top:\n",
    "            degree[i] += 1\n",
    "    nexta = [i for i in range(len(graph)) if degree[i] == 0] \n",
    "    while len(nexta) != 0:\n",
    "        top = nexta.pop(0)\n",
    "        linear_space.append(top)\n",
    "        for i in graph[top]:\n",
    "            degree[i] -= 1\n",
    "            if degree[i] == 0:\n",
    "                nexta.insert(0, i)\n",
    "    return linear_space\n",
    "\n",
    "graph = [[2], \n",
    "         [3],\n",
    "         [3, 4],\n",
    "         [5],\n",
    "         [5], \n",
    "         [6, 10],\n",
    "         [7],\n",
    "         [12],\n",
    "         [9], \n",
    "         [10],\n",
    "         [11],\n",
    "         [12],\n",
    "         [13],\n",
    "         []]\n",
    "\n",
    "print(topological_sort(graph))"
   ]
  },
  {
   "cell_type": "code",
   "execution_count": 3,
   "metadata": {},
   "outputs": [],
   "source": [
    "def circle_equation(x0, y0, xx, yy):\n",
    "    return np.sqrt((xx - x0) ** 2 + (yy - y0) ** 2)"
   ]
  },
  {
   "cell_type": "code",
   "execution_count": 4,
   "metadata": {},
   "outputs": [
    {
     "data": {
      "text/plain": [
       "<matplotlib.contour.QuadContourSet at 0x7fce423cfb70>"
      ]
     },
     "execution_count": 4,
     "metadata": {},
     "output_type": "execute_result"
    },
    {
     "data": {
      "image/png": "[encoded data removed]",
      "text/plain": [
       "<Figure size 720x720 with 1 Axes>"
      ]
     },
     "metadata": {
      "needs_background": "light"
     },
     "output_type": "display_data"
    }
   ],
   "source": [
    "x0, y0 = (600, 500)\n",
    "R = 300\n",
    "xx, yy = np.meshgrid(np.arange(1000), np.arange(1000))\n",
    "zz = np.vectorize(lambda x: x >= R)(circle_equation(x0, y0, xx, yy))\n",
    "plt.figure(figsize=(10, 10))\n",
    "plt.contourf(xx, yy, zz, cmap='binary')"
   ]
  },
  {
   "cell_type": "code",
   "execution_count": 5,
   "metadata": {},
   "outputs": [
    {
     "name": "stdout",
     "output_type": "stream",
     "text": [
      "{'a': 5, 'b': 2, 'fin': 6} {'a': 'b', 'b': 'start', 'fin': 'a'}\n"
     ]
    }
   ],
   "source": [
    "def find_min_cost(costs, processed):\n",
    "    lowest = float('inf')\n",
    "    lowest_node = None\n",
    "    for node in costs:\n",
    "        cost = costs[node]\n",
    "        if (cost < lowest) and (node not in processed):\n",
    "            lowest = cost\n",
    "            lowest_node = node\n",
    "    return lowest_node\n",
    "    \n",
    "    \n",
    "def deikstra(graph, costs, parents):\n",
    "    processed = []\n",
    "    node = find_min_cost(costs, processed)\n",
    "    while node is not None:\n",
    "        cost = costs[node]\n",
    "        neighbors = graph[node]\n",
    "        for n in neighbors.keys():\n",
    "            new_cost = cost + neighbors[n]\n",
    "            if costs[n] > new_cost:\n",
    "                costs[n] = new_cost\n",
    "                parents[n] = node\n",
    "        processed.append(node)\n",
    "        node = find_min_cost(costs, processed)\n",
    "\n",
    "    \n",
    "graph = {}\n",
    "graph['start'] = {}\n",
    "graph['start']['a'] = 2\n",
    "graph['start']['b'] = 6\n",
    "graph['a'] = {}\n",
    "graph['a']['fin'] = 1\n",
    "graph['b'] = {}\n",
    "graph['b']['a'] = 3\n",
    "graph['b']['fin'] = 5\n",
    "graph['fin'] = {}\n",
    "\n",
    "costs = {}\n",
    "costs['a'] = 6\n",
    "costs['b'] = 2\n",
    "costs['fin'] = float('inf')\n",
    "\n",
    "parents = {}\n",
    "parents['a'] = 'start'\n",
    "parents['b'] = 'start'\n",
    "parents['fin'] = None\n",
    "\n",
    "deikstra(graph, costs, parents)\n",
    "print(costs, parents)"
   ]
  },
  {
   "cell_type": "code",
   "execution_count": 13,
   "metadata": {},
   "outputs": [
    {
     "name": "stdout",
     "output_type": "stream",
     "text": [
      "([0, inf, 2, 5, 6, 10, 16, 23, inf, inf, 20, 31, 35, 48], [None, None, 0, 2, 2, 3, 5, 6, None, None, 5, 10, 7, 12])\n"
     ]
    }
   ],
   "source": [
    "def shortest_path(graph, weights, s):\n",
    "    linear_space = topological_sort(graph)\n",
    "    shortest = [0 if s == i else float('inf') for i in linear_space]\n",
    "    pred = [None for _ in linear_space]\n",
    "    for i in linear_space:\n",
    "        for j in graph[i]:\n",
    "            index = graph[i].index(j)\n",
    "            if shortest[i] + weights[i][index] < shortest[j]:\n",
    "                shortest[j] = shortest[i] + weights[i][index]\n",
    "                pred[j] = i\n",
    "    return shortest, pred\n",
    "    \n",
    "graph = [[2], \n",
    "         [3],\n",
    "         [3, 4],\n",
    "         [5],\n",
    "         [5], \n",
    "         [6, 10],\n",
    "         [7],\n",
    "         [12],\n",
    "         [9], \n",
    "         [10],\n",
    "         [11],\n",
    "         [12],\n",
    "         [13],\n",
    "         []]\n",
    "\n",
    "weights = [[2], \n",
    "         [3],\n",
    "         [3, 4],\n",
    "         [5],\n",
    "         [5], \n",
    "         [6, 10],\n",
    "         [7],\n",
    "         [12],\n",
    "         [9], \n",
    "         [10],\n",
    "         [11],\n",
    "         [12],\n",
    "         [13],\n",
    "         []]\n",
    "\n",
    "print(shortest_path(graph, weights, 0))"
   ]
  }
 ],
 "metadata": {
  "kernelspec": {
   "display_name": "Python 3",
   "language": "python",
   "name": "python3"
  },
  "language_info": {
   "codemirror_mode": {
    "name": "ipython",
    "version": 3
   },
   "file_extension": ".py",
   "mimetype": "text/x-python",
   "name": "python",
   "nbconvert_exporter": "python",
   "pygments_lexer": "ipython3",
   "version": "3.7.3"
  }
 },
 "nbformat": 4,
 "nbformat_minor": 2
}
