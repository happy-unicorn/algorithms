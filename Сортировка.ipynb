{
 "cells": [
  {
   "cell_type": "code",
   "execution_count": 1,
   "metadata": {},
   "outputs": [],
   "source": [
    "import math"
   ]
  },
  {
   "cell_type": "code",
   "execution_count": 2,
   "metadata": {},
   "outputs": [],
   "source": [
    "array = [10, 20, 1, 3, 4, 3, 16, 14, 15, 35, 24, 35, 1]"
   ]
  },
  {
   "cell_type": "code",
   "execution_count": 3,
   "metadata": {},
   "outputs": [
    {
     "name": "stdout",
     "output_type": "stream",
     "text": [
      "[1, 1, 3, 3, 4, 10, 14, 15, 16, 20, 24, 35, 35]\n"
     ]
    }
   ],
   "source": [
    "def sorting_choice(array):\n",
    "    for i in range(len(array) - 1):\n",
    "        next_value = i\n",
    "        for j in range(i + 1, len(array)):\n",
    "            if array[j] < array[next_value]:\n",
    "                next_value = j\n",
    "        tmp = array[i]\n",
    "        array[i] = array[next_value]\n",
    "        array[next_value] = tmp\n",
    "    return array\n",
    "\n",
    "\n",
    "print(sorting_choice(array[:]))"
   ]
  },
  {
   "cell_type": "code",
   "execution_count": 4,
   "metadata": {},
   "outputs": [
    {
     "name": "stdout",
     "output_type": "stream",
     "text": [
      "[1, 1, 3, 3, 4, 10, 14, 15, 16, 20, 24, 35, 35]\n"
     ]
    }
   ],
   "source": [
    "def sorting_paste(array):\n",
    "    for i in range(1, len(array)):\n",
    "        key = array[i]\n",
    "        j = i - 1\n",
    "        while j > -1 and array[j] > key:\n",
    "            array[j + 1] = array[j]\n",
    "            j -= 1\n",
    "        array[j + 1] = key\n",
    "    return array\n",
    "\n",
    "print(sorting_paste(array[:]))"
   ]
  },
  {
   "cell_type": "code",
   "execution_count": 5,
   "metadata": {},
   "outputs": [
    {
     "name": "stdout",
     "output_type": "stream",
     "text": [
      "[1, 1, 3, 3, 4, 10, 14, 15, 16, 20, 24, 35, 35]\n"
     ]
    }
   ],
   "source": [
    "def merge(array, left, q, right):\n",
    "    subarr1 = array[left:q + 1]\n",
    "    subarr2 = array[q + 1:right + 1]\n",
    "    subarr1.append(math.inf)\n",
    "    subarr2.append(math.inf)\n",
    "    i, j = 0, 0\n",
    "    for k in range(left, right + 1):\n",
    "        if subarr1[i] <= subarr2[j]:\n",
    "            array[k] = subarr1[i]\n",
    "            i += 1\n",
    "        else:\n",
    "            array[k] = subarr2[j] \n",
    "            j +=1\n",
    "\n",
    "\n",
    "def sorting_merge(array, left=0, right=len(array) - 1):\n",
    "    if left == right:\n",
    "        pass\n",
    "    else:\n",
    "        q = (left + right) // 2\n",
    "        sorting_merge(array, left, q)\n",
    "        sorting_merge(array, q + 1, right)\n",
    "        merge(array, left, q, right)\n",
    "        return array\n",
    "\n",
    "print(sorting_merge(array[:]))"
   ]
  },
  {
   "cell_type": "code",
   "execution_count": 6,
   "metadata": {},
   "outputs": [
    {
     "name": "stdout",
     "output_type": "stream",
     "text": [
      "[1, 1, 3, 3, 4, 10, 14, 15, 16, 20, 24, 35, 35]\n"
     ]
    }
   ],
   "source": [
    "def partition(array, left, right):\n",
    "    q = left\n",
    "    for u in range(left, right):\n",
    "        if array[u] <= array[right]:\n",
    "            tmp = array[q] \n",
    "            array[q] = array[u]\n",
    "            array[u] = tmp\n",
    "            q += 1\n",
    "    tmp = array[q]\n",
    "    array[q] = array[right]\n",
    "    array[right] = tmp\n",
    "    return q\n",
    "    \n",
    "\n",
    "def quick_sorting(array, left=0, right=len(array) - 1):\n",
    "    if left >= right:\n",
    "        pass\n",
    "    else:\n",
    "        q = partition(array, left, right)\n",
    "        quick_sorting(array, left, q - 1)\n",
    "        quick_sorting(array, q + 1, right)\n",
    "        return array\n",
    "    \n",
    "    \n",
    "print(quick_sorting(array[:]))"
   ]
  },
  {
   "cell_type": "code",
   "execution_count": 32,
   "metadata": {},
   "outputs": [
    {
     "name": "stdout",
     "output_type": "stream",
     "text": [
      "[1, 1, 3, 3, 4, 10, 14, 15, 16, 20, 24, 35, 35]\n"
     ]
    }
   ],
   "source": [
    "def count_equal(array, n, m):\n",
    "    equal = [0 for _ in range(m + 1)]\n",
    "    for i in range(n):\n",
    "        key = array[i]\n",
    "        equal[key] += 1\n",
    "    return equal\n",
    "\n",
    "def count_less(equal, m):\n",
    "    less = [0]\n",
    "    for i in range(1, m + 1):\n",
    "        less.append(less[i - 1] + equal[i - 1])\n",
    "    return less\n",
    "\n",
    "\n",
    "def sort(array, less, n, m):\n",
    "    sorted_array = [None for _ in range(len(array))]\n",
    "    nexta = [value for _, value  in enumerate(less)]\n",
    "    for i in range(n):\n",
    "        key = array[i]\n",
    "        index = nexta[key]\n",
    "        sorted_array[index] = key\n",
    "        nexta[key] += 1\n",
    "    return sorted_array\n",
    "\n",
    "\n",
    "def count_sorting(array, n=len(array), m=max(array)):\n",
    "    equal = count_equal(array, n, m)\n",
    "    less = count_less(equal, m)\n",
    "    sorted_array = sort(array, less, n, m)\n",
    "    return sorted_array\n",
    "\n",
    "\n",
    "print(count_sorting(array[:]))"
   ]
  },
  {
   "cell_type": "code",
   "execution_count": null,
   "metadata": {},
   "outputs": [],
   "source": []
  }
 ],
 "metadata": {
  "kernelspec": {
   "display_name": "Python 3",
   "language": "python",
   "name": "python3"
  },
  "language_info": {
   "codemirror_mode": {
    "name": "ipython",
    "version": 3
   },
   "file_extension": ".py",
   "mimetype": "text/x-python",
   "name": "python",
   "nbconvert_exporter": "python",
   "pygments_lexer": "ipython3",
   "version": "3.7.3"
  }
 },
 "nbformat": 4,
 "nbformat_minor": 2
}
