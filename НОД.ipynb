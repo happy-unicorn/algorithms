{
 "cells": [
  {
   "cell_type": "code",
   "execution_count": 2,
   "metadata": {},
   "outputs": [],
   "source": [
    "import numpy as np"
   ]
  },
  {
   "cell_type": "code",
   "execution_count": 53,
   "metadata": {},
   "outputs": [
    {
     "data": {
      "text/plain": [
       "2"
      ]
     },
     "execution_count": 53,
     "metadata": {},
     "output_type": "execute_result"
    }
   ],
   "source": [
    "def nod(a, b):\n",
    "    tmp = 1\n",
    "    for i in range(1, max(a, b) + 1):\n",
    "        if a % i == 0 and b % i == 0:\n",
    "            tmp = i\n",
    "    return tmp\n",
    "\n",
    "nod(8, 10)"
   ]
  },
  {
   "cell_type": "code",
   "execution_count": 55,
   "metadata": {},
   "outputs": [
    {
     "data": {
      "text/plain": [
       "2"
      ]
     },
     "execution_count": 55,
     "metadata": {},
     "output_type": "execute_result"
    }
   ],
   "source": [
    "def euc_nod(a, b):\n",
    "    if a == 0:\n",
    "        return b\n",
    "    if b == 0:\n",
    "        return a\n",
    "    if a >= b:\n",
    "        return euc_nod(a % b, b)\n",
    "    if b >= a:\n",
    "        return euc_nod(a, b % a)\n",
    "\n",
    "\n",
    "euc_nod(10, 8)"
   ]
  },
  {
   "cell_type": "code",
   "execution_count": 1,
   "metadata": {},
   "outputs": [
    {
     "data": {
      "text/plain": [
       "2"
      ]
     },
     "execution_count": 1,
     "metadata": {},
     "output_type": "execute_result"
    }
   ],
   "source": [
    "def euc_nod(a, b):\n",
    "    assert a >= 0 and b >= 0\n",
    "    if a == 0 or b == 0:\n",
    "        return max(a, b)\n",
    "    return euc_nod(b % a, a)\n",
    "\n",
    "\n",
    "euc_nod(10, 8)"
   ]
  }
 ],
 "metadata": {
  "kernelspec": {
   "display_name": "Python 3",
   "language": "python",
   "name": "python3"
  },
  "language_info": {
   "codemirror_mode": {
    "name": "ipython",
    "version": 3
   },
   "file_extension": ".py",
   "mimetype": "text/x-python",
   "name": "python",
   "nbconvert_exporter": "python",
   "pygments_lexer": "ipython3",
   "version": "3.7.3"
  }
 },
 "nbformat": 4,
 "nbformat_minor": 2
}
