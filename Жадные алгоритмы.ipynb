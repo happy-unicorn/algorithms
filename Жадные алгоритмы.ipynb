{
 "cells": [
  {
   "cell_type": "code",
   "execution_count": 2,
   "metadata": {},
   "outputs": [],
   "source": [
    "import numpy as np\n",
    "import pandas as pd\n",
    "from matplotlib import pyplot as plt\n",
    "import seaborn as sns"
   ]
  },
  {
   "cell_type": "code",
   "execution_count": 33,
   "metadata": {},
   "outputs": [
    {
     "name": "stdout",
     "output_type": "stream",
     "text": [
      "3\n",
      "1 3\n",
      "4 5\n",
      "3 6\n",
      "2\n",
      "3 5\n"
     ]
    }
   ],
   "source": [
    "segments = sorted([list(map(int,input().split())) for _ in range(int(input()))], key=lambda x: x[1])\n",
    "dots = [segments.pop(0)[1]]\n",
    "for l, r in segments:\n",
    "    if l > dots[-1]:\n",
    "        dots.append(r)\n",
    "print(str(len(dots)) + '\\n' + ' '.join(map(str, dots)))"
   ]
  },
  {
   "cell_type": "code",
   "execution_count": 37,
   "metadata": {},
   "outputs": [],
   "source": [
    "def continuous_backpack():\n",
    "    quantity, capacity_backpack = tuple(map(int, input().split()))\n",
    "    items = sorted([list(map(int,input().split())) for _ in range(quantity)], key=lambda x: -x[0]/x[1])\n",
    "    counter = 0\n",
    "    for index, item in enumerate(items): \n",
    "        if capacity_backpack > item[1]:\n",
    "            counter += item[0]\n",
    "            capacity_backpack -= item[1]\n",
    "        else:\n",
    "            counter += capacity_backpack / item[1] * item[0]\n",
    "            break\n",
    "    return counter"
   ]
  },
  {
   "cell_type": "code",
   "execution_count": 38,
   "metadata": {},
   "outputs": [
    {
     "name": "stdout",
     "output_type": "stream",
     "text": [
      "3 50\n",
      "60 20\n",
      "100 50\n",
      "120 30\n"
     ]
    },
    {
     "data": {
      "text/plain": [
       "180.0"
      ]
     },
     "execution_count": 38,
     "metadata": {},
     "output_type": "execute_result"
    }
   ],
   "source": [
    "continuous_backpack()"
   ]
  }
 ],
 "metadata": {
  "kernelspec": {
   "display_name": "Python 3",
   "language": "python",
   "name": "python3"
  },
  "language_info": {
   "codemirror_mode": {
    "name": "ipython",
    "version": 3
   },
   "file_extension": ".py",
   "mimetype": "text/x-python",
   "name": "python",
   "nbconvert_exporter": "python",
   "pygments_lexer": "ipython3",
   "version": "3.7.3"
  }
 },
 "nbformat": 4,
 "nbformat_minor": 2
}
